{
 "cells": [
  {
   "cell_type": "markdown",
   "metadata": {},
   "source": [
    "# BC Wildfire Area Statistics Compilation\n",
    "Author: Jason R. Wang\n",
    "\n",
    "Last modified: 2019-10-18 (or the latest date shown on my GitHub repo)\n",
    "\n",
    "See on GitHub: [jasonrwang/AB-Wildfire](https://github.com/jasonrwang/AB-Wildfire)\n",
    "\n",
    "Most of this type of work has already been done by Tara Carman of the CBC, and I'm drawing a lot from her work.\n",
    "- Tara Carman's [GitHub Repo](https://github.com/taracarman/BC_Wildfires/blob/master/BC%20Wildfires.ipynb)\n",
    "- [Carman, Tara (2017, July 29). Area of B.C. burned by wildfires at a 56-year high. CBC News.](https://www.cbc.ca/news/canada/british-columbia/area-of-b-c-burned-by-wildfires-at-a-56-year-high-1.4226227)"
   ]
  },
  {
   "cell_type": "code",
   "execution_count": 1,
   "metadata": {},
   "outputs": [],
   "source": [
    "import pandas as pd\n",
    "import matplotlib.pyplot as plt"
   ]
  },
  {
   "cell_type": "markdown",
   "metadata": {},
   "source": [
    "BC data comes in two flavours: as [fire incident points](https://catalogue.data.gov.bc.ca/dataset/fire-incident-locations-historical#edc-pow), and as [poly's drawn of the fire areas](https://catalogue.data.gov.bc.ca/dataset/fire-perimeters-historical#edc-pow). The former starts in 1950 and the latter in 1931. Let's compare the two to each other and to other data sources, with the aim of using as long a time period as possible.\n",
    "\n",
    "Both sources have descriptions of the column headers in the links listed, and in the accompanying HTML files downloaded to the `data` folder."
   ]
  },
  {
   "cell_type": "code",
   "execution_count": 2,
   "metadata": {},
   "outputs": [
    {
     "name": "stderr",
     "output_type": "stream",
     "text": [
      "/usr/local/lib/python3.7/site-packages/IPython/core/interactiveshell.py:3049: DtypeWarning: Columns (11) have mixed types. Specify dtype option on import or set low_memory=False.\n",
      "  interactivity=interactivity, compiler=compiler, result=result)\n"
     ]
    }
   ],
   "source": [
    "df_pnt = pd.read_csv('data/BC/H_FIRE_PNT.csv', encoding=\"latin-1\") # Note this file is almost 25 MB"
   ]
  },
  {
   "cell_type": "code",
   "execution_count": 3,
   "metadata": {},
   "outputs": [
    {
     "data": {
      "text/plain": [
       "Index(['ZONE', 'FCODE', 'FIRE_YEAR', 'FIRE_TYPE', 'FIRE_NO', 'FIRE_ID',\n",
       "       'FRCNTR', 'SIZE_HA', 'IGN_DATE', 'FIRELABEL', 'FIRE_CAUSE', 'GEO_DESC',\n",
       "       'LATITUDE', 'LONGITUDE', 'OBJECTID', 'SHAPE', 'X', 'Y'],\n",
       "      dtype='object')"
      ]
     },
     "execution_count": 3,
     "metadata": {},
     "output_type": "execute_result"
    }
   ],
   "source": [
    "df_pnt.columns"
   ]
  },
  {
   "cell_type": "markdown",
   "metadata": {},
   "source": [
    "Like for the `AB-Wildfire.ipynb`, I care the most about:\n",
    "- Year\n",
    "- Total area burned by the fire (not every reading is the total area burned)\n",
    "\n",
    "Let's start with the point data.\n",
    "\n",
    "### Point Data\n",
    "Like Tara, we should filter these sets for just fires."
   ]
  },
  {
   "cell_type": "code",
   "execution_count": 4,
   "metadata": {},
   "outputs": [
    {
     "data": {
      "text/plain": [
       "Fire             146292\n",
       "Nuisance          22491\n",
       "Smoke Chase        9599\n",
       "Unknown            1165\n",
       "Duplicate           876\n",
       "Test/Training       106\n",
       "Name: FIRE_TYPE, dtype: int64"
      ]
     },
     "execution_count": 4,
     "metadata": {},
     "output_type": "execute_result"
    }
   ],
   "source": [
    "df_pnt['FIRE_TYPE'].value_counts()"
   ]
  },
  {
   "cell_type": "code",
   "execution_count": 5,
   "metadata": {},
   "outputs": [
    {
     "data": {
      "text/plain": [
       "0"
      ]
     },
     "execution_count": 5,
     "metadata": {},
     "output_type": "execute_result"
    }
   ],
   "source": [
    "df_pnt = df_pnt[df_pnt['FIRE_TYPE'] == 'Fire']\n",
    "\n",
    "# Check for remaining duplicated values\n",
    "df_pnt.groupby(by='FIRE_YEAR')['FIRE_NO'].apply(pd.Series.duplicated).sum()"
   ]
  },
  {
   "cell_type": "markdown",
   "metadata": {},
   "source": [
    "There are no duplicates left, so we can continue the quicker way."
   ]
  },
  {
   "cell_type": "code",
   "execution_count": 6,
   "metadata": {},
   "outputs": [],
   "source": [
    "df_pnt_sub = (df_pnt\n",
    "           .loc[:,['FIRE_YEAR', 'SIZE_HA']]\n",
    "           .rename(columns = {'FIRE_YEAR': 'Year', 'SIZE_HA': 'Area'})\n",
    "          )"
   ]
  },
  {
   "cell_type": "markdown",
   "metadata": {},
   "source": [
    "### Poly Data"
   ]
  },
  {
   "cell_type": "code",
   "execution_count": 7,
   "metadata": {},
   "outputs": [],
   "source": [
    "df_ply = pd.read_csv('data/BC/H_FIRE_PLY.csv')"
   ]
  },
  {
   "cell_type": "code",
   "execution_count": 8,
   "metadata": {},
   "outputs": [
    {
     "data": {
      "text/plain": [
       "Index(['VERSION_NO', 'FIRE_CAUSE', 'FIRELABEL', 'FIRE_NO', 'LOAD_DATE',\n",
       "       'SIZE_HA', 'OBJECTID', 'TRACK_DATE', 'FIRE_YEAR', 'SHAPE', 'METHOD',\n",
       "       'FCODE', 'FIRE_DATE', 'SOURCE', 'X', 'Y'],\n",
       "      dtype='object')"
      ]
     },
     "execution_count": 8,
     "metadata": {},
     "output_type": "execute_result"
    }
   ],
   "source": [
    "df_ply.columns"
   ]
  },
  {
   "cell_type": "code",
   "execution_count": 9,
   "metadata": {},
   "outputs": [
    {
     "data": {
      "text/plain": [
       "3821"
      ]
     },
     "execution_count": 9,
     "metadata": {},
     "output_type": "execute_result"
    }
   ],
   "source": [
    "# It seems like this dataset only has wildfires and no testing fires\n",
    "# df_pnt['FIRE_CAUSE'].value_counts() # Like other datasets\n",
    "\n",
    "# Check for duplicated data\n",
    "df_ply.groupby(by='FIRE_YEAR')['FIRE_NO'].apply(pd.Series.duplicated).sum()"
   ]
  },
  {
   "cell_type": "markdown",
   "metadata": {},
   "source": [
    "Uh oh. Looking deeper, it seems there's a discrepancy between earlier and later years. The earlier years are a bit more confusing, but the more recent data is split into areas. \n",
    "\n"
   ]
  },
  {
   "cell_type": "code",
   "execution_count": 10,
   "metadata": {},
   "outputs": [],
   "source": [
    "# Find all duplicates\n",
    "# df_ply[ df_ply.groupby(by='FIRE_YEAR')['FIRE_NO'].apply(pd.Series.duplicated) ]"
   ]
  },
  {
   "cell_type": "code",
   "execution_count": 11,
   "metadata": {},
   "outputs": [
    {
     "data": {
      "text/html": [
       "<div>\n",
       "<style scoped>\n",
       "    .dataframe tbody tr th:only-of-type {\n",
       "        vertical-align: middle;\n",
       "    }\n",
       "\n",
       "    .dataframe tbody tr th {\n",
       "        vertical-align: top;\n",
       "    }\n",
       "\n",
       "    .dataframe thead th {\n",
       "        text-align: right;\n",
       "    }\n",
       "</style>\n",
       "<table border=\"1\" class=\"dataframe\">\n",
       "  <thead>\n",
       "    <tr style=\"text-align: right;\">\n",
       "      <th></th>\n",
       "      <th>VERSION_NO</th>\n",
       "      <th>FIRE_CAUSE</th>\n",
       "      <th>FIRELABEL</th>\n",
       "      <th>FIRE_NO</th>\n",
       "      <th>LOAD_DATE</th>\n",
       "      <th>SIZE_HA</th>\n",
       "      <th>OBJECTID</th>\n",
       "      <th>TRACK_DATE</th>\n",
       "      <th>FIRE_YEAR</th>\n",
       "      <th>SHAPE</th>\n",
       "      <th>METHOD</th>\n",
       "      <th>FCODE</th>\n",
       "      <th>FIRE_DATE</th>\n",
       "      <th>SOURCE</th>\n",
       "      <th>X</th>\n",
       "      <th>Y</th>\n",
       "    </tr>\n",
       "  </thead>\n",
       "  <tbody>\n",
       "    <tr>\n",
       "      <th>7307</th>\n",
       "      <td>NaN</td>\n",
       "      <td>Person</td>\n",
       "      <td>1919-1</td>\n",
       "      <td>1</td>\n",
       "      <td>20070517.0</td>\n",
       "      <td>41.8</td>\n",
       "      <td>492681</td>\n",
       "      <td>NaN</td>\n",
       "      <td>1919</td>\n",
       "      <td>NaN</td>\n",
       "      <td>digitised</td>\n",
       "      <td>JA70003000</td>\n",
       "      <td>19190426.0</td>\n",
       "      <td>linens</td>\n",
       "      <td>NaN</td>\n",
       "      <td>NaN</td>\n",
       "    </tr>\n",
       "    <tr>\n",
       "      <th>9526</th>\n",
       "      <td>NaN</td>\n",
       "      <td>Person</td>\n",
       "      <td>1921-1</td>\n",
       "      <td>1</td>\n",
       "      <td>20070517.0</td>\n",
       "      <td>93.8</td>\n",
       "      <td>495020</td>\n",
       "      <td>NaN</td>\n",
       "      <td>1921</td>\n",
       "      <td>NaN</td>\n",
       "      <td>assumed_shape</td>\n",
       "      <td>JA70003000</td>\n",
       "      <td>19210616.0</td>\n",
       "      <td>linens</td>\n",
       "      <td>NaN</td>\n",
       "      <td>NaN</td>\n",
       "    </tr>\n",
       "    <tr>\n",
       "      <th>7161</th>\n",
       "      <td>NaN</td>\n",
       "      <td>Person</td>\n",
       "      <td>1923-1</td>\n",
       "      <td>1</td>\n",
       "      <td>20070517.0</td>\n",
       "      <td>2.3</td>\n",
       "      <td>493008</td>\n",
       "      <td>NaN</td>\n",
       "      <td>1923</td>\n",
       "      <td>NaN</td>\n",
       "      <td>digitised</td>\n",
       "      <td>JA70003000</td>\n",
       "      <td>19230505.0</td>\n",
       "      <td>linens</td>\n",
       "      <td>NaN</td>\n",
       "      <td>NaN</td>\n",
       "    </tr>\n",
       "    <tr>\n",
       "      <th>7162</th>\n",
       "      <td>NaN</td>\n",
       "      <td>Person</td>\n",
       "      <td>1923-1</td>\n",
       "      <td>1</td>\n",
       "      <td>20070517.0</td>\n",
       "      <td>5.2</td>\n",
       "      <td>493009</td>\n",
       "      <td>NaN</td>\n",
       "      <td>1923</td>\n",
       "      <td>NaN</td>\n",
       "      <td>digitised</td>\n",
       "      <td>JA70003000</td>\n",
       "      <td>19230505.0</td>\n",
       "      <td>linens</td>\n",
       "      <td>NaN</td>\n",
       "      <td>NaN</td>\n",
       "    </tr>\n",
       "    <tr>\n",
       "      <th>7163</th>\n",
       "      <td>NaN</td>\n",
       "      <td>Person</td>\n",
       "      <td>1923-1</td>\n",
       "      <td>1</td>\n",
       "      <td>20070517.0</td>\n",
       "      <td>2.3</td>\n",
       "      <td>493010</td>\n",
       "      <td>NaN</td>\n",
       "      <td>1923</td>\n",
       "      <td>NaN</td>\n",
       "      <td>digitised</td>\n",
       "      <td>JA70003000</td>\n",
       "      <td>19230505.0</td>\n",
       "      <td>linens</td>\n",
       "      <td>NaN</td>\n",
       "      <td>NaN</td>\n",
       "    </tr>\n",
       "    <tr>\n",
       "      <th>7164</th>\n",
       "      <td>NaN</td>\n",
       "      <td>Person</td>\n",
       "      <td>1923-1</td>\n",
       "      <td>1</td>\n",
       "      <td>20070517.0</td>\n",
       "      <td>1.4</td>\n",
       "      <td>493011</td>\n",
       "      <td>NaN</td>\n",
       "      <td>1923</td>\n",
       "      <td>NaN</td>\n",
       "      <td>digitised</td>\n",
       "      <td>JA70003000</td>\n",
       "      <td>19230505.0</td>\n",
       "      <td>linens</td>\n",
       "      <td>NaN</td>\n",
       "      <td>NaN</td>\n",
       "    </tr>\n",
       "    <tr>\n",
       "      <th>5673</th>\n",
       "      <td>NaN</td>\n",
       "      <td>Person</td>\n",
       "      <td>1924-1</td>\n",
       "      <td>1</td>\n",
       "      <td>20070517.0</td>\n",
       "      <td>16.6</td>\n",
       "      <td>491215</td>\n",
       "      <td>NaN</td>\n",
       "      <td>1924</td>\n",
       "      <td>NaN</td>\n",
       "      <td>digitised</td>\n",
       "      <td>JA70003000</td>\n",
       "      <td>19240425.0</td>\n",
       "      <td>linens</td>\n",
       "      <td>NaN</td>\n",
       "      <td>NaN</td>\n",
       "    </tr>\n",
       "    <tr>\n",
       "      <th>6960</th>\n",
       "      <td>NaN</td>\n",
       "      <td>Person</td>\n",
       "      <td>1924-1</td>\n",
       "      <td>1</td>\n",
       "      <td>20070517.0</td>\n",
       "      <td>30.7</td>\n",
       "      <td>493191</td>\n",
       "      <td>NaN</td>\n",
       "      <td>1924</td>\n",
       "      <td>NaN</td>\n",
       "      <td>digitised</td>\n",
       "      <td>JA70003000</td>\n",
       "      <td>19240429.0</td>\n",
       "      <td>linens</td>\n",
       "      <td>NaN</td>\n",
       "      <td>NaN</td>\n",
       "    </tr>\n",
       "    <tr>\n",
       "      <th>7170</th>\n",
       "      <td>NaN</td>\n",
       "      <td>Person</td>\n",
       "      <td>1924-1</td>\n",
       "      <td>1</td>\n",
       "      <td>20070517.0</td>\n",
       "      <td>53.2</td>\n",
       "      <td>492646</td>\n",
       "      <td>NaN</td>\n",
       "      <td>1924</td>\n",
       "      <td>NaN</td>\n",
       "      <td>digitised</td>\n",
       "      <td>JA70003000</td>\n",
       "      <td>19240501.0</td>\n",
       "      <td>linens</td>\n",
       "      <td>NaN</td>\n",
       "      <td>NaN</td>\n",
       "    </tr>\n",
       "    <tr>\n",
       "      <th>7496</th>\n",
       "      <td>NaN</td>\n",
       "      <td>Person</td>\n",
       "      <td>1930-1</td>\n",
       "      <td>1</td>\n",
       "      <td>20070517.0</td>\n",
       "      <td>610.3</td>\n",
       "      <td>492847</td>\n",
       "      <td>NaN</td>\n",
       "      <td>1930</td>\n",
       "      <td>NaN</td>\n",
       "      <td>digitised</td>\n",
       "      <td>JA70003000</td>\n",
       "      <td>19300513.0</td>\n",
       "      <td>linens</td>\n",
       "      <td>NaN</td>\n",
       "      <td>NaN</td>\n",
       "    </tr>\n",
       "  </tbody>\n",
       "</table>\n",
       "</div>"
      ],
      "text/plain": [
       "      VERSION_NO FIRE_CAUSE FIRELABEL FIRE_NO   LOAD_DATE  SIZE_HA  OBJECTID  \\\n",
       "7307         NaN     Person    1919-1       1  20070517.0     41.8    492681   \n",
       "9526         NaN     Person    1921-1       1  20070517.0     93.8    495020   \n",
       "7161         NaN     Person    1923-1       1  20070517.0      2.3    493008   \n",
       "7162         NaN     Person    1923-1       1  20070517.0      5.2    493009   \n",
       "7163         NaN     Person    1923-1       1  20070517.0      2.3    493010   \n",
       "7164         NaN     Person    1923-1       1  20070517.0      1.4    493011   \n",
       "5673         NaN     Person    1924-1       1  20070517.0     16.6    491215   \n",
       "6960         NaN     Person    1924-1       1  20070517.0     30.7    493191   \n",
       "7170         NaN     Person    1924-1       1  20070517.0     53.2    492646   \n",
       "7496         NaN     Person    1930-1       1  20070517.0    610.3    492847   \n",
       "\n",
       "      TRACK_DATE  FIRE_YEAR  SHAPE         METHOD       FCODE   FIRE_DATE  \\\n",
       "7307         NaN       1919    NaN      digitised  JA70003000  19190426.0   \n",
       "9526         NaN       1921    NaN  assumed_shape  JA70003000  19210616.0   \n",
       "7161         NaN       1923    NaN      digitised  JA70003000  19230505.0   \n",
       "7162         NaN       1923    NaN      digitised  JA70003000  19230505.0   \n",
       "7163         NaN       1923    NaN      digitised  JA70003000  19230505.0   \n",
       "7164         NaN       1923    NaN      digitised  JA70003000  19230505.0   \n",
       "5673         NaN       1924    NaN      digitised  JA70003000  19240425.0   \n",
       "6960         NaN       1924    NaN      digitised  JA70003000  19240429.0   \n",
       "7170         NaN       1924    NaN      digitised  JA70003000  19240501.0   \n",
       "7496         NaN       1930    NaN      digitised  JA70003000  19300513.0   \n",
       "\n",
       "      SOURCE   X   Y  \n",
       "7307  linens NaN NaN  \n",
       "9526  linens NaN NaN  \n",
       "7161  linens NaN NaN  \n",
       "7162  linens NaN NaN  \n",
       "7163  linens NaN NaN  \n",
       "7164  linens NaN NaN  \n",
       "5673  linens NaN NaN  \n",
       "6960  linens NaN NaN  \n",
       "7170  linens NaN NaN  \n",
       "7496  linens NaN NaN  "
      ]
     },
     "execution_count": 11,
     "metadata": {},
     "output_type": "execute_result"
    }
   ],
   "source": [
    "# Example of earlier years\n",
    "df_ply[ df_ply.groupby(by='FIRE_YEAR')['FIRE_NO'].apply(pd.Series.duplicated) ].sort_values(['FIRE_NO','FIRE_YEAR']).head(10)"
   ]
  },
  {
   "cell_type": "code",
   "execution_count": 12,
   "metadata": {},
   "outputs": [
    {
     "data": {
      "text/html": [
       "<div>\n",
       "<style scoped>\n",
       "    .dataframe tbody tr th:only-of-type {\n",
       "        vertical-align: middle;\n",
       "    }\n",
       "\n",
       "    .dataframe tbody tr th {\n",
       "        vertical-align: top;\n",
       "    }\n",
       "\n",
       "    .dataframe thead th {\n",
       "        text-align: right;\n",
       "    }\n",
       "</style>\n",
       "<table border=\"1\" class=\"dataframe\">\n",
       "  <thead>\n",
       "    <tr style=\"text-align: right;\">\n",
       "      <th></th>\n",
       "      <th>VERSION_NO</th>\n",
       "      <th>FIRE_CAUSE</th>\n",
       "      <th>FIRELABEL</th>\n",
       "      <th>FIRE_NO</th>\n",
       "      <th>LOAD_DATE</th>\n",
       "      <th>SIZE_HA</th>\n",
       "      <th>OBJECTID</th>\n",
       "      <th>TRACK_DATE</th>\n",
       "      <th>FIRE_YEAR</th>\n",
       "      <th>SHAPE</th>\n",
       "      <th>METHOD</th>\n",
       "      <th>FCODE</th>\n",
       "      <th>FIRE_DATE</th>\n",
       "      <th>SOURCE</th>\n",
       "      <th>X</th>\n",
       "      <th>Y</th>\n",
       "    </tr>\n",
       "  </thead>\n",
       "  <tbody>\n",
       "    <tr>\n",
       "      <th>6841</th>\n",
       "      <td>NaN</td>\n",
       "      <td>Person</td>\n",
       "      <td>1923-1</td>\n",
       "      <td>1</td>\n",
       "      <td>20070517.0</td>\n",
       "      <td>706.0</td>\n",
       "      <td>493351</td>\n",
       "      <td>NaN</td>\n",
       "      <td>1923</td>\n",
       "      <td>NaN</td>\n",
       "      <td>digitised</td>\n",
       "      <td>JA70003000</td>\n",
       "      <td>19230415.0</td>\n",
       "      <td>linens</td>\n",
       "      <td>NaN</td>\n",
       "      <td>NaN</td>\n",
       "    </tr>\n",
       "    <tr>\n",
       "      <th>7161</th>\n",
       "      <td>NaN</td>\n",
       "      <td>Person</td>\n",
       "      <td>1923-1</td>\n",
       "      <td>1</td>\n",
       "      <td>20070517.0</td>\n",
       "      <td>2.3</td>\n",
       "      <td>493008</td>\n",
       "      <td>NaN</td>\n",
       "      <td>1923</td>\n",
       "      <td>NaN</td>\n",
       "      <td>digitised</td>\n",
       "      <td>JA70003000</td>\n",
       "      <td>19230505.0</td>\n",
       "      <td>linens</td>\n",
       "      <td>NaN</td>\n",
       "      <td>NaN</td>\n",
       "    </tr>\n",
       "    <tr>\n",
       "      <th>7162</th>\n",
       "      <td>NaN</td>\n",
       "      <td>Person</td>\n",
       "      <td>1923-1</td>\n",
       "      <td>1</td>\n",
       "      <td>20070517.0</td>\n",
       "      <td>5.2</td>\n",
       "      <td>493009</td>\n",
       "      <td>NaN</td>\n",
       "      <td>1923</td>\n",
       "      <td>NaN</td>\n",
       "      <td>digitised</td>\n",
       "      <td>JA70003000</td>\n",
       "      <td>19230505.0</td>\n",
       "      <td>linens</td>\n",
       "      <td>NaN</td>\n",
       "      <td>NaN</td>\n",
       "    </tr>\n",
       "    <tr>\n",
       "      <th>7163</th>\n",
       "      <td>NaN</td>\n",
       "      <td>Person</td>\n",
       "      <td>1923-1</td>\n",
       "      <td>1</td>\n",
       "      <td>20070517.0</td>\n",
       "      <td>2.3</td>\n",
       "      <td>493010</td>\n",
       "      <td>NaN</td>\n",
       "      <td>1923</td>\n",
       "      <td>NaN</td>\n",
       "      <td>digitised</td>\n",
       "      <td>JA70003000</td>\n",
       "      <td>19230505.0</td>\n",
       "      <td>linens</td>\n",
       "      <td>NaN</td>\n",
       "      <td>NaN</td>\n",
       "    </tr>\n",
       "    <tr>\n",
       "      <th>7164</th>\n",
       "      <td>NaN</td>\n",
       "      <td>Person</td>\n",
       "      <td>1923-1</td>\n",
       "      <td>1</td>\n",
       "      <td>20070517.0</td>\n",
       "      <td>1.4</td>\n",
       "      <td>493011</td>\n",
       "      <td>NaN</td>\n",
       "      <td>1923</td>\n",
       "      <td>NaN</td>\n",
       "      <td>digitised</td>\n",
       "      <td>JA70003000</td>\n",
       "      <td>19230505.0</td>\n",
       "      <td>linens</td>\n",
       "      <td>NaN</td>\n",
       "      <td>NaN</td>\n",
       "    </tr>\n",
       "  </tbody>\n",
       "</table>\n",
       "</div>"
      ],
      "text/plain": [
       "      VERSION_NO FIRE_CAUSE FIRELABEL FIRE_NO   LOAD_DATE  SIZE_HA  OBJECTID  \\\n",
       "6841         NaN     Person    1923-1       1  20070517.0    706.0    493351   \n",
       "7161         NaN     Person    1923-1       1  20070517.0      2.3    493008   \n",
       "7162         NaN     Person    1923-1       1  20070517.0      5.2    493009   \n",
       "7163         NaN     Person    1923-1       1  20070517.0      2.3    493010   \n",
       "7164         NaN     Person    1923-1       1  20070517.0      1.4    493011   \n",
       "\n",
       "      TRACK_DATE  FIRE_YEAR  SHAPE     METHOD       FCODE   FIRE_DATE  SOURCE  \\\n",
       "6841         NaN       1923    NaN  digitised  JA70003000  19230415.0  linens   \n",
       "7161         NaN       1923    NaN  digitised  JA70003000  19230505.0  linens   \n",
       "7162         NaN       1923    NaN  digitised  JA70003000  19230505.0  linens   \n",
       "7163         NaN       1923    NaN  digitised  JA70003000  19230505.0  linens   \n",
       "7164         NaN       1923    NaN  digitised  JA70003000  19230505.0  linens   \n",
       "\n",
       "       X   Y  \n",
       "6841 NaN NaN  \n",
       "7161 NaN NaN  \n",
       "7162 NaN NaN  \n",
       "7163 NaN NaN  \n",
       "7164 NaN NaN  "
      ]
     },
     "execution_count": 12,
     "metadata": {},
     "output_type": "execute_result"
    }
   ],
   "source": [
    "df_ply[(df_ply['FIRE_NO'] == '1') & (df_ply['FIRE_YEAR'] == 1923) ]"
   ]
  },
  {
   "cell_type": "markdown",
   "metadata": {},
   "source": [
    "Looking manually at the data through the provided iMapBC interface [(see here)](https://maps.gov.bc.ca/ess/hm/imap4m/?catalogLayers=1756,1757,1758&scale=400000.0&center=-13161319.5843,6668201.90948), the above five records are all in separate areas and do not overlap."
   ]
  },
  {
   "cell_type": "code",
   "execution_count": 13,
   "metadata": {},
   "outputs": [
    {
     "data": {
      "text/html": [
       "<div>\n",
       "<style scoped>\n",
       "    .dataframe tbody tr th:only-of-type {\n",
       "        vertical-align: middle;\n",
       "    }\n",
       "\n",
       "    .dataframe tbody tr th {\n",
       "        vertical-align: top;\n",
       "    }\n",
       "\n",
       "    .dataframe thead th {\n",
       "        text-align: right;\n",
       "    }\n",
       "</style>\n",
       "<table border=\"1\" class=\"dataframe\">\n",
       "  <thead>\n",
       "    <tr style=\"text-align: right;\">\n",
       "      <th></th>\n",
       "      <th>VERSION_NO</th>\n",
       "      <th>FIRE_CAUSE</th>\n",
       "      <th>FIRELABEL</th>\n",
       "      <th>FIRE_NO</th>\n",
       "      <th>LOAD_DATE</th>\n",
       "      <th>SIZE_HA</th>\n",
       "      <th>OBJECTID</th>\n",
       "      <th>TRACK_DATE</th>\n",
       "      <th>FIRE_YEAR</th>\n",
       "      <th>SHAPE</th>\n",
       "      <th>METHOD</th>\n",
       "      <th>FCODE</th>\n",
       "      <th>FIRE_DATE</th>\n",
       "      <th>SOURCE</th>\n",
       "      <th>X</th>\n",
       "      <th>Y</th>\n",
       "    </tr>\n",
       "  </thead>\n",
       "  <tbody>\n",
       "    <tr>\n",
       "      <th>18356</th>\n",
       "      <td>NaN</td>\n",
       "      <td>Lightning</td>\n",
       "      <td>2006-G70333</td>\n",
       "      <td>G70333</td>\n",
       "      <td>20071025.0</td>\n",
       "      <td>1518.3</td>\n",
       "      <td>503620</td>\n",
       "      <td>20060723.0</td>\n",
       "      <td>2006</td>\n",
       "      <td>NaN</td>\n",
       "      <td>Area 1 of 3</td>\n",
       "      <td>JA70003000</td>\n",
       "      <td>20060701.0</td>\n",
       "      <td>LANDSAT5</td>\n",
       "      <td>NaN</td>\n",
       "      <td>NaN</td>\n",
       "    </tr>\n",
       "    <tr>\n",
       "      <th>18369</th>\n",
       "      <td>NaN</td>\n",
       "      <td>Lightning</td>\n",
       "      <td>2006-G70333</td>\n",
       "      <td>G70333</td>\n",
       "      <td>20071025.0</td>\n",
       "      <td>116.9</td>\n",
       "      <td>503621</td>\n",
       "      <td>20060723.0</td>\n",
       "      <td>2006</td>\n",
       "      <td>NaN</td>\n",
       "      <td>Area 2 of 3</td>\n",
       "      <td>JA70003000</td>\n",
       "      <td>20060701.0</td>\n",
       "      <td>LANDSAT5</td>\n",
       "      <td>NaN</td>\n",
       "      <td>NaN</td>\n",
       "    </tr>\n",
       "    <tr>\n",
       "      <th>18370</th>\n",
       "      <td>NaN</td>\n",
       "      <td>Lightning</td>\n",
       "      <td>2006-G70333</td>\n",
       "      <td>G70333</td>\n",
       "      <td>20071025.0</td>\n",
       "      <td>7.9</td>\n",
       "      <td>503622</td>\n",
       "      <td>20060723.0</td>\n",
       "      <td>2006</td>\n",
       "      <td>NaN</td>\n",
       "      <td>Area 3 of 3</td>\n",
       "      <td>JA70003000</td>\n",
       "      <td>20060701.0</td>\n",
       "      <td>LANDSAT5</td>\n",
       "      <td>NaN</td>\n",
       "      <td>NaN</td>\n",
       "    </tr>\n",
       "  </tbody>\n",
       "</table>\n",
       "</div>"
      ],
      "text/plain": [
       "       VERSION_NO FIRE_CAUSE    FIRELABEL FIRE_NO   LOAD_DATE  SIZE_HA  \\\n",
       "18356         NaN  Lightning  2006-G70333  G70333  20071025.0   1518.3   \n",
       "18369         NaN  Lightning  2006-G70333  G70333  20071025.0    116.9   \n",
       "18370         NaN  Lightning  2006-G70333  G70333  20071025.0      7.9   \n",
       "\n",
       "       OBJECTID  TRACK_DATE  FIRE_YEAR  SHAPE       METHOD       FCODE  \\\n",
       "18356    503620  20060723.0       2006    NaN  Area 1 of 3  JA70003000   \n",
       "18369    503621  20060723.0       2006    NaN  Area 2 of 3  JA70003000   \n",
       "18370    503622  20060723.0       2006    NaN  Area 3 of 3  JA70003000   \n",
       "\n",
       "        FIRE_DATE    SOURCE   X   Y  \n",
       "18356  20060701.0  LANDSAT5 NaN NaN  \n",
       "18369  20060701.0  LANDSAT5 NaN NaN  \n",
       "18370  20060701.0  LANDSAT5 NaN NaN  "
      ]
     },
     "execution_count": 13,
     "metadata": {},
     "output_type": "execute_result"
    }
   ],
   "source": [
    "# Example of recent years\n",
    "df_ply[df_ply['FIRE_NO'] == 'G70333']"
   ]
  },
  {
   "cell_type": "markdown",
   "metadata": {},
   "source": [
    "I'm happy enough based on these spot checks that the data is sufficient. I simply don't have the resources to do further validation right now. A good approach instead would be to find the duplicates with the largest area and check them out. Moving on...."
   ]
  },
  {
   "cell_type": "code",
   "execution_count": 14,
   "metadata": {},
   "outputs": [],
   "source": [
    "df_ply_sub = (df_ply\n",
    "           .loc[:,['FIRE_YEAR', 'SIZE_HA']]\n",
    "           .rename(columns = {'FIRE_YEAR': 'Year', 'SIZE_HA': 'Area'})\n",
    "          )"
   ]
  },
  {
   "cell_type": "markdown",
   "metadata": {},
   "source": [
    "## Data Comparison (Validation)\n",
    "\n",
    "Let's plot the two data series on top of one another.\n",
    "\n",
    "First let's aggregate the data by year."
   ]
  },
  {
   "cell_type": "code",
   "execution_count": 15,
   "metadata": {},
   "outputs": [],
   "source": [
    "df_ply_sub = df_ply_sub.groupby(by='Year').sum().reset_index()\n",
    "df_pnt_sub = df_pnt_sub.groupby(by='Year').sum().reset_index()"
   ]
  },
  {
   "cell_type": "code",
   "execution_count": 16,
   "metadata": {},
   "outputs": [
    {
     "data": {
      "image/png": "[encoded data removed]",
      "text/plain": [
       "<Figure size 720x482.4 with 1 Axes>"
      ]
     },
     "metadata": {
      "needs_background": "light"
     },
     "output_type": "display_data"
    }
   ],
   "source": [
    "fig = plt.figure(figsize=(10,6.7))\n",
    "ax = fig.add_subplot(111)\n",
    "\n",
    "plt.bar(df_ply_sub['Year'], df_ply_sub['Area'], color='red', alpha = 0.4, label = 'Poly')\n",
    "plt.bar(df_pnt_sub['Year'], df_pnt_sub['Area'], color='g', alpha = 0.4, label = 'Point')\n",
    "plt.legend()\n",
    "\n",
    "ax.set(xlabel = 'Area Burned (ha)',\n",
    "       ylabel='Number of Fires',\n",
    "       title='Fire Sizes in BC from 1919 to 2019')\n",
    "plt.show()"
   ]
  },
  {
   "cell_type": "markdown",
   "metadata": {},
   "source": [
    "Wow, the data visually looks to match quite well. I'm not going to do any additional data processing and instead just use the poly data as a complete set. Let's visually compare this to the [NFD](http://nfdp.ccfm.org/en/data/fires.php) numbers for BC (I can't download them as numbers, so a figure will have to do).\n",
    "\n",
    "![NFD British Columbia 1990-2018](img/NFD_BC_1990-2018.png)\n",
    "\n",
    "Let's add some recent data to the poly's dataset before we save it for other uses."
   ]
  },
  {
   "cell_type": "code",
   "execution_count": 17,
   "metadata": {},
   "outputs": [],
   "source": [
    "import requests\n",
    "from bs4 import BeautifulSoup\n",
    "\n",
    "# Inspect elements on the table \n",
    "page_name = 'http://bcfireinfo.for.gov.bc.ca/hprScripts/WildfireNews/Statistics.asp'\n",
    "page = requests.get(page_name)\n",
    "\n",
    "soup = BeautifulSoup(page.text, 'html.parser')\n",
    "area2019 = float(\n",
    "    soup\n",
    "    .find_all('tr')[-1] # Last row in the table\n",
    "    .find(align='right').contents[0] # First cell we want is the first with right align\n",
    "    .replace(',','') # Clean string so we can turn into a float\n",
    "    )"
   ]
  },
  {
   "cell_type": "code",
   "execution_count": 18,
   "metadata": {},
   "outputs": [],
   "source": [
    "# 2019 data as of 2019-05-31 available from http://bcfireinfo.for.gov.bc.ca/hprScripts/WildfireNews/Statistics.asp\n",
    "df_ply_sub = df_ply_sub.append(pd.DataFrame.from_dict({'Year': [2019], 'Area': [area2019]}))\n",
    "\n",
    "df_ply_sub.to_csv('data/BCWildfires_1919-2019.csv', index=False)"
   ]
  },
  {
   "cell_type": "markdown",
   "metadata": {},
   "source": [
    "And let's plot the poly data for easy sharing."
   ]
  },
  {
   "cell_type": "code",
   "execution_count": 19,
   "metadata": {},
   "outputs": [
    {
     "data": {
      "image/png": "[encoded data removed]",
      "text/plain": [
       "<Figure size 720x482.4 with 1 Axes>"
      ]
     },
     "metadata": {
      "needs_background": "light"
     },
     "output_type": "display_data"
    }
   ],
   "source": [
    "fig = plt.figure(figsize=(10,6.7))\n",
    "ax = fig.add_subplot(111)\n",
    "\n",
    "plt.bar(df_ply_sub['Year'].values, df_ply_sub['Area'].values, color='#ffcd00', label='1919-2017')\n",
    "plt.bar(df_ply_sub['Year'].tail(1), df_ply_sub['Area'].tail(1), color='#d32530', label='2019')\n",
    "# Colours taken from the BC flag :)\n",
    "plt.legend()\n",
    "\n",
    "ax.set(xlabel = 'Year',\n",
    "       ylabel='Area Burned (ha)',\n",
    "       title = 'British Columbia Forest Area Destroyed by Wildfire between 1919 and 2019')\n",
    "ax.set_xlim([1918, 2020])\n",
    "plt.minorticks_on()\n",
    "\n",
    "credit = 'Last modified: 2019-10-18\\nTwitter: @jasonrwang\\nGitHub: jasonrwang/AB-Wildfire'\n",
    "ax.text(1919, 1140000, credit, fontsize=9)\n",
    "\n",
    "# Save the the figure for other uses\n",
    "plt.savefig('img/BCWildfires_1919-2019.png')\n",
    "plt.show()"
   ]
  }
 ],
 "metadata": {
  "kernelspec": {
   "display_name": "Python 3",
   "language": "python",
   "name": "python3"
  },
  "language_info": {
   "codemirror_mode": {
    "name": "ipython",
    "version": 3
   },
   "file_extension": ".py",
   "mimetype": "text/x-python",
   "name": "python",
   "nbconvert_exporter": "python",
   "pygments_lexer": "ipython3",
   "version": "3.7.4"
  }
 },
 "nbformat": 4,
 "nbformat_minor": 4
}
