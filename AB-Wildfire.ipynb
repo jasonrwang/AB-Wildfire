{
 "cells": [
  {
   "cell_type": "markdown",
   "metadata": {},
   "source": [
    "# Alberta Wildfire Area Statistics Compilation\n",
    "Author: Jason R. Wang\n",
    "\n",
    "Last modified: 2019-06-01 (or the latest date shown on my GitHub repo)\n",
    "\n",
    "See on GitHub: [jasonrwang/AB-Wildfire](https://github.com/jasonrwang/AB-Wildfire)\n",
    "\n",
    "## Preamble\n",
    "\n",
    "Wildfire season has hit Alberta once again, and my friends and family back home are posting feverously on social media about the orange haze that has hit Alberta. Of course, there's similarly bickering about how much of this is 'normal'. We know that wildfires are intensified by the climate emergency, but there are undoubtedly many more causes.\n",
    "\n",
    "The purpose of this little notebook is just to answer a question that's been on my mind: _how does this wildfire season actually compare to previous years?_ Surprisingly, this wasn't very easy to find online, so I decided to do some work mmyself.\n",
    "\n",
    "Of course this analysis is limited by the quality of data available. I've done my best to double check and, where I could, validate these numbers by cross-referencing them across multiple government-published data sources.\n",
    "\n",
    "This is by no means a comprehensive study (it's just to answer one small question transparently). There's a lot more work done \n",
    "\n",
    "Lastly, I want to thank all the brave lookout staff, firefighters, civil servants, and countless more people on the frontlines fighting the fires. It's a dangerous and incredibly tiring job to deal with such crises. Similarly, my heart goes out to all those displaced by the fires.\n",
    "\n",
    "### To Do:\n",
    "- Alberta's Historical Wildfire Database has data from 1931 to 1968 recorded on microfilm. Since I wanted to do this today, and also since I'm not in Edmonton, I had to leave this time period out.\n",
    "- Include BC Data (https://www.canadawildfire.org/cffdrs-r-package?)\n",
    "- Look at other factors for fires, like aridity and duration of actual fire season\n",
    "\n",
    "### For more reading:\n",
    "\n",
    "#### Explained\n",
    "- [Carman, Tara (2017, July 29). Area of B.C. burned by wildfires at a 56-year high. CBC News.](https://www.cbc.ca/news/canada/british-columbia/area-of-b-c-burned-by-wildfires-at-a-56-year-high-1.4226227)\n",
    "- Tara Carman's [GitHub Repo](https://github.com/taracarman/BC_Wildfires/blob/master/BC%20Wildfires.ipynb) for the above story\n",
    "- [Nadkarni, Kabir (2018, September 01). Opinion: UCP's climate denial unacceptable in face of worsening wildfire trends. The Gateway.](https://www.thegatewayonline.ca/2018/09/ucp-climate-denial-unacceptable-wildfire-trends/)\n",
    "- [McGillivray, Glenn (2019, May 29). Opinion: Climate change is a big factor in Alberta’s wildfires – but not in the way you might think. The Globe and Mail.](https://www.theglobeandmail.com/opinion/article-climate-change-is-a-big-factor-in-albertas-wildfires-but-not-in-the/)\n",
    "- [Pierre-Louis, Kendra & Popovich, Nadja (2018, November 27). Climate Change Is Fueling Wildfires Nationwide, New Report Warns. The New York Times.](https://www.nytimes.com/interactive/2018/11/27/climate/wildfire-global-warming.html)\n",
    "- [Thomson, Graham (2019, May 29). Opinion: Kenney not a climate change denier but a climate change dodger. iPolitics](https://ipolitics.ca/2019/05/29/kenney-not-a-climate-change-denier-but-a-climate-change-dodger/)\n",
    "\n",
    "#### Academic\n",
    "- [Flannigan, Mike (n.d.). Fire and Climate Change. University of Alberta.](https://sites.ualberta.ca/~flanniga/climatechange.html)\n",
    "- [cffdrs: an R package for the Canadian Forest Fire Danger Rating System. Canada Wildfire.](https://www.canadawildfire.org/cffdrs-r-package)\n",
    "- (Paywalled) [Robinne, F.-N., Parisien, M.-A., & Flannigan, M. (2016). Anthropogenic influence on wildfire activity in Alberta, Canada. International Journal of Wildland Fire, 25(11), 1131.](https://doi.org/10.1071/WF16058)"
   ]
  },
  {
   "cell_type": "markdown",
   "metadata": {},
   "source": [
    "## Data Cleaning and Prep"
   ]
  },
  {
   "cell_type": "markdown",
   "metadata": {},
   "source": [
    "The most comprehensive database I could find for Alberta's wildfire data is from the AB Ministry of Agriculture and Forestry's [Historical Wildfire Database](https://wildfire.alberta.ca/resources/historical-data/historical-wildfire-database.aspx). There is also aggregated data at the [Canadian National Fire Database](http://cwfis.cfs.nrcan.gc.ca/ha/nfdb) and the [National Forestry Database](http://nfdp.ccfm.org/en/index.php). Unfortunately, they only have records from 1990 onwards."
   ]
  },
  {
   "cell_type": "code",
   "execution_count": 1,
   "metadata": {},
   "outputs": [],
   "source": [
    "import pandas as pd\n",
    "import matplotlib.pyplot as plt"
   ]
  },
  {
   "cell_type": "markdown",
   "metadata": {},
   "source": [
    "Let's first import all four data files and inspect them for what information they actually carry. The accompanying PDF 'data_dictionary' files explain what is in each column."
   ]
  },
  {
   "cell_type": "code",
   "execution_count": 2,
   "metadata": {},
   "outputs": [],
   "source": [
    "# Import data\n",
    "df1 = pd.read_csv('data/fires_1961to1982.csv')\n",
    "df2 = pd.read_csv('data/fires_1983to1995.csv', low_memory = False) # Columns (17,76,77) have mixed types\n",
    "df3 = pd.read_csv('data/fires_1996to2005.csv')\n",
    "# The most recent file has a 0x92 byte, which is a special apostrophe made by Windows\n",
    "df4 = pd.read_csv('data/fires_2006to2017.csv', encoding='cp1252')"
   ]
  },
  {
   "cell_type": "code",
   "execution_count": 3,
   "metadata": {},
   "outputs": [
    {
     "data": {
      "text/plain": [
       "Index(['fire_number', 'fire_name', 'fire_year', 'calendar_year',\n",
       "       'assessment_datetime', 'assessment_hectares', 'current_size',\n",
       "       'size_class', 'fire_location_latitude', 'fire_location_longitude',\n",
       "       'fire_origin', 'general_cause_desc', 'industry_identifier_desc',\n",
       "       'responsible_group_desc', 'activity_class', 'true_cause',\n",
       "       'permit_detail_desc', 'fire_start_date', 'det_agent_type', 'det_agent',\n",
       "       'discovered_date', 'reported_date', 'start_for_fire_date',\n",
       "       'fire_fighting_start_date', 'fire_fighting_start_size',\n",
       "       'initial_action_by', 'fire_type', 'fire_position_on_slope',\n",
       "       'weather_conditions_over_fire', 'fuel_type', 'other_fuel_type',\n",
       "       'bh_fs_date', 'bh_hectares', 'uc_fs_date', 'uc_hectares', 'to_fs_date',\n",
       "       'to_hectares', 'ex_fs_date', 'ex_hectares'],\n",
       "      dtype='object')"
      ]
     },
     "execution_count": 3,
     "metadata": {},
     "output_type": "execute_result"
    }
   ],
   "source": [
    "# Check column names of the datasets\n",
    "df3.columns"
   ]
  },
  {
   "cell_type": "markdown",
   "metadata": {},
   "source": [
    "Every one of these files has a different structure, so I'm going to manually find the ones I want. Right now, I care the most about:\n",
    "- Year\n",
    "- Total area burned by the fire (not every reading is the total area burned)"
   ]
  },
  {
   "cell_type": "code",
   "execution_count": 4,
   "metadata": {},
   "outputs": [],
   "source": [
    "df = pd.DataFrame(columns = ['Year', 'Area'])"
   ]
  },
  {
   "cell_type": "code",
   "execution_count": 5,
   "metadata": {},
   "outputs": [],
   "source": [
    "df1_sub = (df1.groupby(by = ['FIRENUMBER', 'YEAR'], sort = False)['TOTAL']\n",
    "           .nlargest(n=1)\n",
    "           .reset_index()\n",
    "           .loc[:,['YEAR', 'TOTAL']]\n",
    "           .rename(columns = {'YEAR': 'Year', 'TOTAL': 'Area'})\n",
    "          )\n",
    "\n",
    "# Data only recorded last two digits of year\n",
    "df1_sub.loc[:,'Year'] = df1_sub['Year'].apply(lambda x: x+1900) \n",
    "\n",
    "# Total burned area is recorded in acres. Since metric is better, let's convert that to hectares\n",
    "df1_sub.loc[:,'Area'] = df1_sub['Area'].apply(lambda x: x * 0.404686)\n",
    "\n",
    "df = df.append(df1_sub, ignore_index=True, sort = False)"
   ]
  },
  {
   "cell_type": "code",
   "execution_count": 6,
   "metadata": {},
   "outputs": [],
   "source": [
    "df2_sub = (df2.groupby(by = ['firenumber', 'fire_year'], sort = False)['grandarea']\n",
    "           .nlargest(n=1)\n",
    "           .reset_index()\n",
    "           .loc[:,['fire_year', 'grandarea']]\n",
    "           .rename(columns = {'fire_year': 'Year', 'grandarea': 'Area'})\n",
    "          )\n",
    "\n",
    "# Documentation says col `fire_year` is only last two digits, but it's identical to `calendar_year`\n",
    "# Area is listed as already in hectares\n",
    "\n",
    "df = df.append(df2_sub, ignore_index=True)"
   ]
  },
  {
   "cell_type": "code",
   "execution_count": 7,
   "metadata": {},
   "outputs": [],
   "source": [
    "# The documentation for this period doesn't match the actual column names, but the one for 2006 to 2017 does\n",
    "# These two periods have the same column headings, so let's save some time and merge them early\n",
    "df3 = df3.append(df4)\n",
    "\n",
    "# Use fire_year because some of these fires continued to burn even into the winter of the following year\n",
    "# df3[df3.loc[:,['fire_year']].values != df3.loc[:,['calendar_year']].values]\n",
    "\n",
    "# Current size is implicitly in hectares (matches other columns explicitly listed as hectares)\n",
    "\n",
    "df3_sub = (df3.groupby(by = ['fire_number', 'fire_year'], sort = False)['current_size']\n",
    "           .nlargest(n=1)\n",
    "           .reset_index()\n",
    "           .loc[:,['fire_year', 'current_size']]\n",
    "           .rename(columns = {'fire_year': 'Year', 'current_size': 'Area'})\n",
    "          )\n",
    "\n",
    "df = df.append(df3_sub, ignore_index=True)"
   ]
  },
  {
   "cell_type": "code",
   "execution_count": 8,
   "metadata": {},
   "outputs": [],
   "source": [
    "# Manually add 2018 data from the National Forestry Database\n",
    "df = df.append(pd.DataFrame.from_dict({'Year': [2018], 'Area': [59809]}))"
   ]
  },
  {
   "cell_type": "markdown",
   "metadata": {},
   "source": [
    "The 2019 data is only available on the Government of Alberta [Wildfire site](https://wildfire.alberta.ca/wildfire-status/default.aspx) right now. This information can be retrieved manually, or through some web scraping. Here's where I got it from:\n",
    "\n",
    "![2019 Data Scrape Location](img/2019-Data-Scrape.png)"
   ]
  },
  {
   "cell_type": "code",
   "execution_count": 9,
   "metadata": {},
   "outputs": [],
   "source": [
    "import requests\n",
    "from bs4 import BeautifulSoup\n",
    "\n",
    "# Inspect elements on the table \n",
    "page_name = 'https://wildfire.alberta.ca/reports/sitrep.html'\n",
    "page = requests.get(page_name)\n",
    "\n",
    "soup = BeautifulSoup(page.text, 'html.parser')\n",
    "area2019 = float(\n",
    "    soup\n",
    "    .find_all(bgcolor='#CCCCCC')[-1] # Take last #CCCCCC shaded table cell, which is \n",
    "    .find_all('font')[0].contents[0]\n",
    "    .replace(',','')\n",
    "    )"
   ]
  },
  {
   "cell_type": "code",
   "execution_count": 10,
   "metadata": {},
   "outputs": [],
   "source": [
    "# 2019 data as of 2019-05-31 available on https://wildfire.alberta.ca/wildfire-status/default.aspx\n",
    "df = df.append(pd.DataFrame.from_dict({'Year': [2019], 'Area': [area2019]}))"
   ]
  },
  {
   "cell_type": "code",
   "execution_count": 11,
   "metadata": {},
   "outputs": [],
   "source": [
    "# Save all the data as an aggregated bunch for easier processing later, or elsewhere!\n",
    "df.to_csv('data/ABWildfires_1961-2019.csv')"
   ]
  },
  {
   "cell_type": "markdown",
   "metadata": {},
   "source": [
    "## Data Viz and Verification\n",
    "\n",
    "I can really only validate this data against other datasets, since I do not have access to a plane, satellite, or time machine (ranked in order of difficulty, of course). Therefore, this section is mostly to _verify_ my process, making sure that I didn't mess up any conversions or anything. Unfortunately, there's only one conversion that I needed to do, which was for acres –> hectares in the 1961 to 1982 dataset."
   ]
  },
  {
   "cell_type": "code",
   "execution_count": 13,
   "metadata": {},
   "outputs": [
    {
     "data": {
      "image/png": "[encoded data removed]",
      "text/plain": [
       "<Figure size 1080x720 with 1 Axes>"
      ]
     },
     "metadata": {
      "needs_background": "light"
     },
     "output_type": "display_data"
    }
   ],
   "source": [
    "fig = (df.groupby(by = 'Year').sum()\n",
    "       .plot(\n",
    "           kind = 'bar',\n",
    "           figsize = (15, 10),\n",
    "           title = 'Albertan Forest Area Destroyed by Wildfire between 1961 and 2019',\n",
    "           legend = False,\n",
    "           color = '#0e3692'\n",
    "       )\n",
    "      )\n",
    "fig.patches[-1].set_facecolor('#fc1920')\n",
    "fig.set(xlabel = 'Year', ylabel = 'Area Burned (ha)')\n",
    "\n",
    "credit = 'Last modified: 2019-06-01\\nTwitter: @jasonrwang\\nGitHub: jasonrwang/AB-Wildfire'\n",
    "plt.text(47, 1330000, credit, fontsize=9)\n",
    "plt.text(46.5, 830000, '2011 Slave Lake Fire', fontsize=10)\n",
    "plt.text(55, 530000, '2016 Fort\\nMcMurray Fire', fontsize=10, horizontalalignment='center')\n",
    "\n",
    "# Save the the figure for other uses\n",
    "plt.savefig('img/ABWildfires_1961-2019.png')\n",
    "plt.show()"
   ]
  },
  {
   "cell_type": "markdown",
   "metadata": {},
   "source": [
    "Compare this to [National Forest Database's compiled data for Alberta](http://nfdp.ccfm.org/en/data/fires.php). At least for the 1990-2017 time period, we have similar numbers. Recall that I took 2018 from them.\n",
    "![NFD 1990-2018 Alberta Wildfire Data](img/NFD_Alberta_1990-2018.png)"
   ]
  },
  {
   "cell_type": "markdown",
   "metadata": {},
   "source": [
    "The spike between 1980-1982 also seems strange. Though I don't have other data to compare against, I do have three pieces of useful comparison:\n",
    "\n",
    "1. [National Forest Database's compiled data for Canada between 1980 and 2017](http://cwfis.cfs.nrcan.gc.ca/ha/nfdb?type=poly&year=2016). The total hectares burned in 1981 is ~6.5 million, so the ~1.4 million ha our data from the Government of Alberta seems completely reasonable.\n",
    "![NFD/NFDB 1980-2017 Stats](img/NFD_NFDB_comparison_stats_chart.png)\n",
    "2. [National Forest Database's mapped 1981 fire range](http://nfdp.ccfm.org/en/data/fires.php) (from Alberta's submitted map files) is visually much bigger than the same data from 2016 (see two figures below). A full set of these files is available from the Government of Alberta [here](https://wildfire.alberta.ca/resources/historical-data/spatial-wildfire-data.aspx) – including since 1931 – but I don't have the tools to analyze this right now.\n",
    "![1981 Canadian Wildfire Map](img/ag_firepolys_1981.png)\n",
    "3. National Forest Database's mapped 2017 fire range:\n",
    "![2016 Canadian Wildfire Map](img/ag_firepolys_2016.png)\n",
    "\n",
    "Overall then, I'm satisfied with the data I've compiled."
   ]
  }
 ],
 "metadata": {
  "kernelspec": {
   "display_name": "Python 3",
   "language": "python",
   "name": "python3"
  },
  "language_info": {
   "codemirror_mode": {
    "name": "ipython",
    "version": 3
   },
   "file_extension": ".py",
   "mimetype": "text/x-python",
   "name": "python",
   "nbconvert_exporter": "python",
   "pygments_lexer": "ipython3",
   "version": "3.7.3"
  }
 },
 "nbformat": 4,
 "nbformat_minor": 2
}
